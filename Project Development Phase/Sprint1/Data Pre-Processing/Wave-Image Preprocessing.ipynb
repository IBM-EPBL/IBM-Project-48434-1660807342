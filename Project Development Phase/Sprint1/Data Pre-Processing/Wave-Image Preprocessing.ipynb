{
 "cells": [
  {
   "cell_type": "markdown",
   "id": "0419d159",
   "metadata": {},
   "source": [
    "### Import Necessary Libraries"
   ]
  },
  {
   "cell_type": "code",
   "execution_count": 1,
   "id": "a1f471d7",
   "metadata": {},
   "outputs": [],
   "source": [
    "%matplotlib inline\n",
    "\n",
    "import numpy as np\n",
    "import pandas as pd\n",
    "import matplotlib.pyplot as plt\n",
    "import seaborn as sns\n",
    "\n",
    "from sklearn.metrics import classification_report,confusion_matrix\n",
    "from sklearn import metrics\n",
    "from sklearn.preprocessing import LabelEncoder,LabelBinarizer\n",
    "from sklearn.model_selection import train_test_split\n",
    "from sklearn.ensemble import RandomForestClassifier,GradientBoostingClassifier,ExtraTreesClassifier\n",
    "import zipfile as zf\n",
    "import os\n",
    "import random\n",
    "import cv2\n",
    "import imutils\n",
    "\n",
    "\n",
    "\n",
    "from skimage import feature\n",
    "\n",
    "from tensorflow.keras.utils import to_categorical\n",
    "from imutils import build_montages,paths\n",
    "\n",
    "\n",
    "sns.set()"
   ]
  },
  {
   "cell_type": "code",
   "execution_count": 2,
   "id": "12280980",
   "metadata": {},
   "outputs": [
    {
     "data": {
      "text/plain": [
       "'C:\\\\Users\\\\91755'"
      ]
     },
     "execution_count": 2,
     "metadata": {},
     "output_type": "execute_result"
    }
   ],
   "source": [
    "os.getcwd()"
   ]
  },
  {
   "cell_type": "markdown",
   "id": "1ccf4427",
   "metadata": {},
   "source": [
    "### Load Train and Test data"
   ]
  },
  {
   "cell_type": "code",
   "execution_count": 3,
   "id": "51f66d26",
   "metadata": {},
   "outputs": [],
   "source": [
    "wave_train_healthy = os.listdir('C:\\\\IBM PROJECT\\\\Dataset\\\\wave\\\\training\\\\healthy\\\\')\n",
    "wave_train_park = os.listdir('C:\\\\IBM PROJECT\\\\Dataset\\\\wave\\\\training\\\\parkinson\\\\')\n",
    "\n",
    "fp_wave_train_healthy = 'C:\\\\IBM PROJECT\\\\Dataset\\\\wave\\\\training\\\\healthy\\\\'\n",
    "fp_wave_train_park = 'C:\\\\IBM PROJECT\\\\Dataset\\\\wave\\\\training\\\\parkinson\\\\'\n",
    "\n",
    "wave_test_healthy = os.listdir('C:\\\\IBM PROJECT\\\\Dataset\\\\wave\\\\testing\\\\healthy\\\\')\n",
    "wave_test_park = os.listdir('C:\\\\IBM PROJECT\\Dataset\\\\wave\\\\testing\\\\parkinson\\\\')\n",
    "\n",
    "fp_wave_test_healthy = 'C:\\\\IBM PROJECT\\\\Dataset\\\\wave\\\\testing\\\\healthy\\\\'\n",
    "fp_wave_test_park = 'C:\\\\IBM PROJECT\\\\Dataset\\\\wave\\\\testing\\\\parkinson\\\\'"
   ]
  },
  {
   "cell_type": "markdown",
   "id": "2d7d7e82",
   "metadata": {},
   "source": [
    "#### Function to quantify image"
   ]
  },
  {
   "cell_type": "code",
   "execution_count": 4,
   "id": "0ae2c9a9",
   "metadata": {},
   "outputs": [],
   "source": [
    "def quantify_image(image):\n",
    "  features = feature.hog(image,orientations=9,\n",
    "                pixels_per_cell=(10,10),cells_per_block=(2,2),transform_sqrt=True,block_norm=\"L1\")\n",
    "\n",
    "  return features"
   ]
  },
  {
   "cell_type": "code",
   "execution_count": 5,
   "id": "e601058e",
   "metadata": {},
   "outputs": [],
   "source": [
    "trainX = []\n",
    "testX = []\n",
    "outputs = []\n",
    "trainY = []\n",
    "testY = []"
   ]
  },
  {
   "cell_type": "markdown",
   "id": "02df502b",
   "metadata": {},
   "source": [
    "### Preprocessing"
   ]
  },
  {
   "cell_type": "code",
   "execution_count": 6,
   "id": "2c219fe2",
   "metadata": {},
   "outputs": [],
   "source": [
    "for i in wave_train_healthy:\n",
    "  image = cv2.imread(fp_wave_train_healthy+i)\n",
    "  image = cv2.cvtColor(image , cv2.COLOR_BGR2GRAY)\n",
    "  image = cv2.resize(image , (200,200))\n",
    "  image =cv2.threshold(image, 0, 255,cv2.THRESH_BINARY_INV | cv2.THRESH_OTSU)[1]\n",
    "  features = quantify_image(image)\n",
    "  trainX.append(features)\n",
    "  trainY.append('healthy')\n",
    "\n",
    "for i in wave_test_healthy:\n",
    "  image = cv2.imread(fp_wave_test_healthy+i)\n",
    "  outputs.append(image)\n",
    "  image = cv2.cvtColor(image , cv2.COLOR_BGR2GRAY)\n",
    "  image = cv2.resize(image , (200,200))\n",
    "  image = cv2.threshold(image ,0,255,cv2.THRESH_BINARY_INV | cv2.THRESH_OTSU)[1]\n",
    "  features = quantify_image(image)\n",
    "  testX.append(features)\n",
    "  testY.append('healthy')"
   ]
  },
  {
   "cell_type": "code",
   "execution_count": 7,
   "id": "ac5c887e",
   "metadata": {},
   "outputs": [],
   "source": [
    "for i in wave_train_park:\n",
    "  image = cv2.imread(fp_wave_train_park+i)\n",
    "  image = cv2.cvtColor(image , cv2.COLOR_BGR2GRAY)\n",
    "  image = cv2.resize(image , (200,200))\n",
    "  image = cv2.threshold(image ,0,255,cv2.THRESH_BINARY_INV | cv2.THRESH_OTSU)[1]\n",
    "  features = quantify_image(image)\n",
    "  trainX.append(features)\n",
    "  trainY.append('parkinson')\n",
    "\n",
    "for i in wave_test_park:\n",
    "  image = cv2.imread(fp_wave_test_park+i)\n",
    "  outputs.append(image)\n",
    "  image = cv2.cvtColor(image , cv2.COLOR_BGR2GRAY)\n",
    "  image = cv2.resize(image , (200,200))\n",
    "  image = cv2.threshold(image ,0,255,cv2.THRESH_BINARY_INV | cv2.THRESH_OTSU)[1]\n",
    "  features = quantify_image(image)\n",
    "  testX.append(features)\n",
    "  testY.append('parkinson')"
   ]
  },
  {
   "cell_type": "code",
   "execution_count": 8,
   "id": "c7d851c3",
   "metadata": {},
   "outputs": [],
   "source": [
    "trainX = np.array(trainX)\n",
    "testX = np.array(testX)\n",
    "trainY = np.array(trainY)\n",
    "testY = np.array(testY)"
   ]
  },
  {
   "cell_type": "code",
   "execution_count": 9,
   "id": "021f3613",
   "metadata": {},
   "outputs": [
    {
     "name": "stdout",
     "output_type": "stream",
     "text": [
      "[[0.         0.         0.         ... 0.         0.         0.        ]\n",
      " [0.         0.         0.         ... 0.         0.         0.        ]\n",
      " [0.         0.         0.         ... 0.         0.         0.        ]\n",
      " ...\n",
      " [0.24999804 0.         0.         ... 0.         0.         0.        ]\n",
      " [0.12675901 0.         0.07381472 ... 0.         0.         0.        ]\n",
      " [0.         0.         0.         ... 0.         0.         0.        ]]\n"
     ]
    }
   ],
   "source": [
    "print(trainX)"
   ]
  },
  {
   "cell_type": "code",
   "execution_count": 10,
   "id": "2f7ac122",
   "metadata": {},
   "outputs": [
    {
     "name": "stdout",
     "output_type": "stream",
     "text": [
      "[[0. 0. 0. ... 0. 0. 0.]\n",
      " [0. 0. 0. ... 0. 0. 0.]\n",
      " [0. 0. 0. ... 0. 0. 0.]\n",
      " ...\n",
      " [0. 0. 0. ... 0. 0. 0.]\n",
      " [0. 0. 0. ... 0. 0. 0.]\n",
      " [0. 0. 0. ... 0. 0. 0.]]\n"
     ]
    }
   ],
   "source": [
    "print(testX)"
   ]
  },
  {
   "cell_type": "code",
   "execution_count": 11,
   "id": "48917747",
   "metadata": {},
   "outputs": [
    {
     "name": "stdout",
     "output_type": "stream",
     "text": [
      "['healthy' 'healthy' 'healthy' 'healthy' 'healthy' 'healthy' 'healthy'\n",
      " 'healthy' 'healthy' 'healthy' 'healthy' 'healthy' 'healthy' 'healthy'\n",
      " 'healthy' 'healthy' 'healthy' 'healthy' 'healthy' 'healthy' 'healthy'\n",
      " 'healthy' 'healthy' 'healthy' 'healthy' 'healthy' 'healthy' 'healthy'\n",
      " 'healthy' 'healthy' 'healthy' 'healthy' 'healthy' 'healthy' 'healthy'\n",
      " 'healthy' 'parkinson' 'parkinson' 'parkinson' 'parkinson' 'parkinson'\n",
      " 'parkinson' 'parkinson' 'parkinson' 'parkinson' 'parkinson' 'parkinson'\n",
      " 'parkinson' 'parkinson' 'parkinson' 'parkinson' 'parkinson' 'parkinson'\n",
      " 'parkinson' 'parkinson' 'parkinson' 'parkinson' 'parkinson' 'parkinson'\n",
      " 'parkinson' 'parkinson' 'parkinson' 'parkinson' 'parkinson' 'parkinson'\n",
      " 'parkinson' 'parkinson' 'parkinson' 'parkinson' 'parkinson' 'parkinson'\n",
      " 'parkinson']\n"
     ]
    }
   ],
   "source": [
    "print(trainY)"
   ]
  },
  {
   "cell_type": "code",
   "execution_count": 12,
   "id": "439076a6",
   "metadata": {},
   "outputs": [
    {
     "name": "stdout",
     "output_type": "stream",
     "text": [
      "['healthy' 'healthy' 'healthy' 'healthy' 'healthy' 'healthy' 'healthy'\n",
      " 'healthy' 'healthy' 'healthy' 'healthy' 'healthy' 'healthy' 'healthy'\n",
      " 'healthy' 'parkinson' 'parkinson' 'parkinson' 'parkinson' 'parkinson'\n",
      " 'parkinson' 'parkinson' 'parkinson' 'parkinson' 'parkinson' 'parkinson'\n",
      " 'parkinson' 'parkinson' 'parkinson' 'parkinson']\n"
     ]
    }
   ],
   "source": [
    "print(testY)"
   ]
  },
  {
   "cell_type": "code",
   "execution_count": 13,
   "id": "1cf46395",
   "metadata": {},
   "outputs": [],
   "source": [
    "le = LabelEncoder()"
   ]
  },
  {
   "cell_type": "code",
   "execution_count": 14,
   "id": "a027a157",
   "metadata": {},
   "outputs": [],
   "source": [
    "trainY = le.fit_transform(trainY)\n",
    "testY = le.transform(testY)\n"
   ]
  },
  {
   "cell_type": "code",
   "execution_count": 15,
   "id": "60d18b11",
   "metadata": {},
   "outputs": [
    {
     "name": "stdout",
     "output_type": "stream",
     "text": [
      "[0 0 0 0 0 0 0 0 0 0 0 0 0 0 0 0 0 0 0 0 0 0 0 0 0 0 0 0 0 0 0 0 0 0 0 0 1\n",
      " 1 1 1 1 1 1 1 1 1 1 1 1 1 1 1 1 1 1 1 1 1 1 1 1 1 1 1 1 1 1 1 1 1 1 1]\n"
     ]
    }
   ],
   "source": [
    "print(trainY)"
   ]
  },
  {
   "cell_type": "code",
   "execution_count": 16,
   "id": "c0146487",
   "metadata": {},
   "outputs": [
    {
     "name": "stdout",
     "output_type": "stream",
     "text": [
      "[0 0 0 0 0 0 0 0 0 0 0 0 0 0 0 1 1 1 1 1 1 1 1 1 1 1 1 1 1 1]\n"
     ]
    }
   ],
   "source": [
    "print(testY)"
   ]
  },
  {
   "cell_type": "code",
   "execution_count": null,
   "id": "7c04e66d",
   "metadata": {},
   "outputs": [],
   "source": []
  }
 ],
 "metadata": {
  "kernelspec": {
   "display_name": "Python 3",
   "language": "python",
   "name": "python3"
  },
  "language_info": {
   "codemirror_mode": {
    "name": "ipython",
    "version": 3
   },
   "file_extension": ".py",
   "mimetype": "text/x-python",
   "name": "python",
   "nbconvert_exporter": "python",
   "pygments_lexer": "ipython3",
   "version": "3.8.8"
  }
 },
 "nbformat": 4,
 "nbformat_minor": 5
}
